{
 "cells": [
  {
   "cell_type": "code",
   "execution_count": 5,
   "id": "2866e8d3",
   "metadata": {},
   "outputs": [
    {
     "ename": "ImportError",
     "evalue": "cannot import name 'df3' from 'main' (C:\\Users\\Arij\\Desktop\\projetS7\\main.py)",
     "output_type": "error",
     "traceback": [
      "\u001b[1;31m---------------------------------------------------------------------------\u001b[0m",
      "\u001b[1;31mImportError\u001b[0m                               Traceback (most recent call last)",
      "\u001b[1;32m~\\AppData\\Local\\Temp/ipykernel_19904/864369791.py\u001b[0m in \u001b[0;36m<module>\u001b[1;34m\u001b[0m\n\u001b[0;32m      4\u001b[0m \u001b[1;32mimport\u001b[0m \u001b[0mnumpy\u001b[0m \u001b[1;32mas\u001b[0m \u001b[0mnp\u001b[0m\u001b[1;33m\u001b[0m\u001b[1;33m\u001b[0m\u001b[0m\n\u001b[0;32m      5\u001b[0m \u001b[1;32mimport\u001b[0m \u001b[0mplotly\u001b[0m\u001b[1;33m.\u001b[0m\u001b[0mexpress\u001b[0m \u001b[1;32mas\u001b[0m \u001b[0mpx\u001b[0m\u001b[1;33m\u001b[0m\u001b[1;33m\u001b[0m\u001b[0m\n\u001b[1;32m----> 6\u001b[1;33m \u001b[1;32mfrom\u001b[0m \u001b[0mmain\u001b[0m \u001b[1;32mimport\u001b[0m \u001b[0mdf1\u001b[0m\u001b[1;33m,\u001b[0m \u001b[0mdf2\u001b[0m\u001b[1;33m,\u001b[0m \u001b[0mdf3\u001b[0m\u001b[1;33m\u001b[0m\u001b[1;33m\u001b[0m\u001b[0m\n\u001b[0m\u001b[0;32m      7\u001b[0m \u001b[1;32mimport\u001b[0m \u001b[0mjson\u001b[0m\u001b[1;33m\u001b[0m\u001b[1;33m\u001b[0m\u001b[0m\n\u001b[0;32m      8\u001b[0m \u001b[0mmode\u001b[0m\u001b[1;33m=\u001b[0m\u001b[1;34m\"departements\"\u001b[0m\u001b[1;33m\u001b[0m\u001b[1;33m\u001b[0m\u001b[0m\n",
      "\u001b[1;31mImportError\u001b[0m: cannot import name 'df3' from 'main' (C:\\Users\\Arij\\Desktop\\projetS7\\main.py)"
     ]
    }
   ],
   "source": [
    "import folium\n",
    "from IPython.display import display\n",
    "import pandas as pd\n",
    "import numpy as np\n",
    "import plotly.express as px\n",
    "from main import df1, df2, df3\n",
    "import json\n",
    "mode=\"departements\"\n",
    "m = folium.Map(location=[46, 2])\n",
    "france_depart=json.load(open(\"{}.geojson\".format(mode), 'r'))\n",
    "df1['id']=df1['code_insee_commune']\n",
    "def clean(x):\n",
    "    x= x[0:2]\n",
    "    return x\n",
    "df1['id']=df1['id'].apply(clean)\n",
    "  \n",
    "dff=df1['id'].value_counts().reset_index(name='counts')\n",
    "dff['scalecount']=np.log10(dff['counts'])\n",
    "print(dff.head())\n",
    "folium.Choropleth(\n",
    "    geo_data=france_depart,\n",
    "    name=\"choropleth\",\n",
    "    data=dff,\n",
    "    columns=[\"index\", \"scalecount\"],\n",
    "    key_on=\"properties.code\",\n",
    "    fill_color=\"YlGn\",\n",
    "    fill_opacity=0.7,\n",
    "    line_opacity=0.2,\n",
    "    legend_name=\"Unemployment Rate (%)\",\n",
    ").add_to(m)\n",
    "folium.Choropleth(\n",
    "    geo_data=france_depart,\n",
    "    name=\"choropleth\",\n",
    "    data=df3,\n",
    "    columns=[\"CODDEP\", \"PTOT\"],\n",
    "    key_on=\"properties.code\",\n",
    "    fill_color=\"PuRd\",\n",
    "    fill_opacity=0.7,\n",
    "    line_opacity=0.2,\n",
    "    legend_name=\"Population\",\n",
    ").add_to(m)\n",
    "\n",
    "folium.LayerControl().add_to(m)\n",
    "\n",
    "m"
   ]
  },
  {
   "cell_type": "code",
   "execution_count": null,
   "id": "44b48530",
   "metadata": {},
   "outputs": [],
   "source": []
  }
 ],
 "metadata": {
  "kernelspec": {
   "display_name": "Python 3 (ipykernel)",
   "language": "python",
   "name": "python3"
  },
  "language_info": {
   "codemirror_mode": {
    "name": "ipython",
    "version": 3
   },
   "file_extension": ".py",
   "mimetype": "text/x-python",
   "name": "python",
   "nbconvert_exporter": "python",
   "pygments_lexer": "ipython3",
   "version": "3.10.1"
  }
 },
 "nbformat": 4,
 "nbformat_minor": 5
}
